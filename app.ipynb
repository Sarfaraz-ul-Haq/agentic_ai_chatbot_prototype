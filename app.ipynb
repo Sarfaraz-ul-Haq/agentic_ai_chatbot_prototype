{
  "cells": [
    {
      "cell_type": "markdown",
      "source": [
        "Recipe Suggestion Agentic Chatbot"
      ],
      "metadata": {
        "id": "m5GDf5z8C9oP"
      }
    },
    {
      "cell_type": "code",
      "execution_count": 41,
      "metadata": {
        "vscode": {
          "languageId": "plaintext"
        },
        "id": "jOC6sw-t0zDo"
      },
      "outputs": [],
      "source": [
        "%%capture --no-stderr\n",
        "%pip install langgraph langgraph-checkpoint-sqlite langchain_core langchain-google-genai"
      ]
    },
    {
      "cell_type": "code",
      "source": [
        "from google.colab import userdata\n",
        "GEMINI_API_KEY = userdata.get(\"GEMINI_API_KEY\")"
      ],
      "metadata": {
        "id": "5065YsZGAWsj"
      },
      "execution_count": 42,
      "outputs": []
    },
    {
      "cell_type": "code",
      "source": [
        "import os\n",
        "\n",
        "os.environ[\"LANGCHAIN_API_KEY\"] = userdata.get(\"LANGCHAIN_API_KEY\")\n",
        "os.environ[\"LANGCHAIN_TRACING_V2\"] = \"true\"\n",
        "os.environ[\"LANGCHAIN_PROJECT\"] = \"langchain-academy\""
      ],
      "metadata": {
        "id": "IlymFcZ5AiTi"
      },
      "execution_count": 43,
      "outputs": []
    },
    {
      "cell_type": "code",
      "source": [
        "from langchain_google_genai import ChatGoogleGenerativeAI\n",
        "\n",
        "llm: ChatGoogleGenerativeAI = ChatGoogleGenerativeAI(api_key=GEMINI_API_KEY, model=\"gemini-1.5-flash\")"
      ],
      "metadata": {
        "id": "ZHBmb6gjAU7M"
      },
      "execution_count": 44,
      "outputs": []
    },
    {
      "cell_type": "code",
      "source": [
        "from google.colab import drive\n",
        "drive.mount(\"/content/drive\")"
      ],
      "metadata": {
        "colab": {
          "base_uri": "https://localhost:8080/"
        },
        "id": "7WFWhyCn6pOy",
        "outputId": "a9ce75f6-c6e9-423f-efc2-7e3128d6c47c"
      },
      "execution_count": 45,
      "outputs": [
        {
          "output_type": "stream",
          "name": "stdout",
          "text": [
            "Drive already mounted at /content/drive; to attempt to forcibly remount, call drive.mount(\"/content/drive\", force_remount=True).\n"
          ]
        }
      ]
    },
    {
      "cell_type": "code",
      "source": [
        "import sqlite3\n",
        "\n",
        "file_path = '/content/drive/My Drive/state_db/example.db'\n",
        "conn = sqlite3.connect(file_path, check_same_thread=False)"
      ],
      "metadata": {
        "id": "mvI_3jdw788l"
      },
      "execution_count": 46,
      "outputs": []
    },
    {
      "cell_type": "code",
      "source": [
        "from langgraph.checkpoint.sqlite import SqliteSaver\n",
        "\n",
        "memory: SqliteSaver = SqliteSaver(conn)"
      ],
      "metadata": {
        "id": "Msyd424q9K34"
      },
      "execution_count": 47,
      "outputs": []
    },
    {
      "cell_type": "code",
      "source": [
        "from langgraph.graph import MessagesState\n",
        "from langgraph.graph import StateGraph, START, END\n",
        "from langgraph.graph.state import CompiledStateGraph\n",
        "from langchain_core.messages import SystemMessage, HumanMessage, RemoveMessage, ToolMessage, AnyMessage\n",
        "from langgraph.graph.message import add_messages\n",
        "from langchain.tools import tool\n",
        "from langgraph.prebuilt import ToolNode, tools_condition\n",
        "from IPython.display import display, Image\n",
        "from typing import Annotated\n",
        "from typing_extensions import TypedDict\n",
        "\n",
        "class State(TypedDict):\n",
        "    messages: Annotated[list[AnyMessage], add_messages]\n",
        "    summary: str\n",
        "\n",
        "@tool\n",
        "def recipe_search_tool(state: State):\n",
        "  \"\"\"Searches for a recipe based on the conversation and returns it as a ToolMessage.\"\"\"\n",
        "  messages = state[\"messages\"]\n",
        "\n",
        "  system_message = SystemMessage(content=\"You are a recipe assistant. Based on the user's input, suggest recipes from https://www.allrecipes.com/ that use the provided ingredients.\")\n",
        "\n",
        "  recipe_response = llm.invoke(system_message + messages)\n",
        "\n",
        "  return {\"messages\": ToolMessage(content=recipe_response)}\n",
        "\n",
        "llm_with_tools = llm.bind_tools([recipe_search_tool])"
      ],
      "metadata": {
        "id": "OGEM0ZKUQmE9"
      },
      "execution_count": null,
      "outputs": []
    },
    {
      "cell_type": "code",
      "source": [
        "def assistant(state: State) -> State:\n",
        "    summary = state.get(\"summary\", \"\")\n",
        "\n",
        "    if summary:\n",
        "        system_message = f\"Summary of conversation earlier: {summary}\"\n",
        "        messages = [SystemMessage(content=system_message)] + state[\"messages\"]\n",
        "    else:\n",
        "        messages = state[\"messages\"]\n",
        "\n",
        "    response = llm_with_tools.invoke(messages)\n",
        "    return {\"messages\": response}\n",
        "\n",
        "\n",
        "def summarize_conversation(state: State) -> State:\n",
        "    summary = state.get(\"summary\", \"\")\n",
        "\n",
        "    if summary:\n",
        "        summary_message = (\n",
        "            f\"This is summary of the conversation to date: {summary}\\n\\n\"\n",
        "            \"Extend the summary by taking into account the new messages above:\"\n",
        "        )\n",
        "    else:\n",
        "        summary_message = \"Create a summary of the conversation above:\"\n",
        "\n",
        "    messages = state[\"messages\"] + [HumanMessage(content=summary_message)]\n",
        "    response = llm_with_tools.invoke(messages)\n",
        "\n",
        "    delete_messages = []\n",
        "    for m in state[\"messages\"][:-2]:\n",
        "      delete_messages.append(RemoveMessage(id=m.id))\n",
        "\n",
        "    return {\"summary\": response.content, \"messages\": delete_messages}\n",
        "\n",
        "\n",
        "def should_summarize(state: State) -> State:\n",
        "    \"\"\"Return the next node to execute.\"\"\"\n",
        "\n",
        "    messages = state[\"messages\"]\n",
        "\n",
        "    if len(messages) > 6:\n",
        "        return \"summarize_conversation\"\n",
        "\n",
        "    return END"
      ],
      "metadata": {
        "id": "UEdgjxTx-Lab"
      },
      "execution_count": null,
      "outputs": []
    },
    {
      "cell_type": "code",
      "source": [
        "builder: StateGraph = StateGraph(State)\n",
        "\n",
        "builder.add_node(\"assistant\", assistant)\n",
        "builder.add_node(\"tools\", ToolNode([recipe_search_tool]))\n",
        "builder.add_node(summarize_conversation)\n",
        "\n",
        "builder.add_edge(START, \"assistant\")\n",
        "builder.add_conditional_edges(\"assistant\", tools_condition)\n",
        "builder.add_edge(\"tools\", \"assistant\")\n",
        "builder.add_conditional_edges(\"assistant\", should_summarize)\n",
        "builder.add_edge(\"summarize_conversation\", END)\n",
        "\n",
        "graph: CompiledStateGraph = builder.compile(checkpointer=memory)\n",
        "\n",
        "display(Image(graph.get_graph(xray=True).draw_mermaid_png()))"
      ],
      "metadata": {
        "id": "5PY-zWamCkar"
      },
      "execution_count": null,
      "outputs": []
    },
    {
      "cell_type": "code",
      "source": [
        "from typing import List\n",
        "\n",
        "food = input(\"What would you like to make today? \")\n",
        "\n",
        "ingredients = input(f\"Great! Now, please list the ingredients you have available for your {food}, separated by commas. For example: chicken, onions, garlic, tomatoes, pasta\").split(\",\")\n",
        "\n",
        "prompt = f\"I want to make {food} and I have these ingredients at home: {', '.join(ingredients)}\""
      ],
      "metadata": {
        "id": "f6EUBnlyJAP1",
        "outputId": "d280084e-23b1-4315-f8ab-cfe6d86653af",
        "colab": {
          "base_uri": "https://localhost:8080/"
        }
      },
      "execution_count": 73,
      "outputs": [
        {
          "name": "stdout",
          "output_type": "stream",
          "text": [
            "What would you like to make today? burger\n",
            "Great! Now, please list the ingredients you have available for your burger, separated by commas. For example: chicken, onions, garlic, tomatoes, pastasauce, sausages, kebab, mushrooms\n"
          ]
        }
      ]
    },
    {
      "cell_type": "code",
      "source": [
        "config = {\"configurable\": {\"thread_id\": \"1\"}}\n",
        "\n",
        "input_message = HumanMessage(content=prompt, name=\"User\")\n",
        "\n",
        "output = graph.invoke({\"messages\": [input_message]}, config)\n",
        "for m in output['messages'][-1:]:\n",
        "    m.pretty_print()"
      ],
      "metadata": {
        "id": "dczjHG5rJzi9",
        "outputId": "5ec4d3be-4ec7-48f8-e343-d00d8e4ade59",
        "colab": {
          "base_uri": "https://localhost:8080/"
        }
      },
      "execution_count": 74,
      "outputs": [
        {
          "output_type": "stream",
          "name": "stdout",
          "text": [
            "==================================\u001b[1m Ai Message \u001b[0m==================================\n",
            "\n",
            "That's a creative combination of ingredients for a burger! Here are a couple of options, depending on what kind of burger you're aiming for:\n",
            "\n",
            "**Option 1: The \"Sausage & Kebab\" Burger**\n",
            "\n",
            "This option focuses on the sausages and kebab as the main protein sources.\n",
            "\n",
            "* **Patty:**  You could either crumble the sausages and kebab meat together to form a patty, or slice the sausages and kebab into thick rounds to layer on the burger.  If crumbling, lightly fry the mixture to help it bind.\n",
            "* **Toppings:** Sauteed mushrooms add a nice earthy flavor. Add your sauce generously.  Consider adding some cheese if you have any on hand.  A toasted bun completes the burger.\n",
            "\n",
            "**Option 2: The \"Kebab-Stuffed Sausage Burger\"**\n",
            "\n",
            "This option uses the kebab as a filling within the sausage.\n",
            "\n",
            "* **Patty:** Use the sausages whole, or cut them lengthwise and stuff them with small pieces of the kebab meat.  You can then grill or pan-fry the sausage patties.\n",
            "* **Toppings:**  Sauteed mushrooms and your sauce. Cheese would be a welcome addition here as well. Serve on a toasted bun.\n",
            "\n",
            "\n",
            "**Important Considerations:**\n",
            "\n",
            "* **Cooking the Meat:** Make sure both the sausages and the kebab meat are cooked thoroughly to a safe internal temperature.\n",
            "* **Bun Choice:** Choose a sturdy bun that can hold all the fillings without falling apart.\n",
            "\n",
            "\n",
            "Let me know if you have any other ingredients, like cheese, lettuce, tomato, or onion, and I can give you more refined suggestions.  Also, specifying the type of sauce you have (e.g., BBQ, mayonnaise, ketchup) would be helpful!\n"
          ]
        }
      ]
    }
  ],
  "metadata": {
    "language_info": {
      "name": "python"
    },
    "colab": {
      "provenance": []
    },
    "kernelspec": {
      "name": "python3",
      "display_name": "Python 3"
    }
  },
  "nbformat": 4,
  "nbformat_minor": 0
}