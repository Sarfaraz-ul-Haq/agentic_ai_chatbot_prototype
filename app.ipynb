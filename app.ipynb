{
  "cells": [
    {
      "cell_type": "code",
      "execution_count": 2,
      "metadata": {
        "vscode": {
          "languageId": "plaintext"
        },
        "id": "jOC6sw-t0zDo"
      },
      "outputs": [],
      "source": [
        "%%capture no-stderr\n",
        "%pip install -q -U langgraph langchain-core langchain-community langchain-google-genai tavily-python yfinance"
      ]
    },
    {
      "cell_type": "code",
      "source": [
        "from google.colab import userdata\n",
        "\n",
        "GEMINI_API_KEY = userdata.get(\"GEMINI_API_KEY\")"
      ],
      "metadata": {
        "id": "5065YsZGAWsj"
      },
      "execution_count": 3,
      "outputs": []
    },
    {
      "cell_type": "code",
      "source": [
        "import os\n",
        "\n",
        "os.environ[\"LANGCHAIN_API_KEY\"] = userdata.get(\"LANGCHAIN_API_KEY\")\n",
        "os.environ[\"LANGCHAIN_TRACING_V2\"] = \"true\"\n",
        "os.environ[\"LANGCHAIN_PROJECT\"] = \"langchain-academy\""
      ],
      "metadata": {
        "id": "IlymFcZ5AiTi"
      },
      "execution_count": 4,
      "outputs": []
    },
    {
      "cell_type": "code",
      "source": [
        "import os\n",
        "\n",
        "os.environ[\"TAVILY_API_KEY\"] = userdata.get('TAVILY_API_KEY')"
      ],
      "metadata": {
        "id": "tx3Jw0YEcn6s"
      },
      "execution_count": 5,
      "outputs": []
    },
    {
      "cell_type": "code",
      "source": [
        "from langchain_google_genai import ChatGoogleGenerativeAI\n",
        "from langgraph.checkpoint.memory import MemorySaver\n",
        "import operator\n",
        "from langgraph.graph import MessagesState\n",
        "from langgraph.graph import StateGraph, START, END\n",
        "from langgraph.graph.state import CompiledStateGraph\n",
        "from langchain_core.messages import AnyMessage, SystemMessage, HumanMessage, RemoveMessage, ToolMessage, AnyMessage\n",
        "from langchain.agents import tool\n",
        "from langgraph.prebuilt import ToolNode, tools_condition\n",
        "from typing import Annotated, List\n",
        "from typing_extensions import TypedDict\n",
        "from IPython.display import display, Image\n",
        "from langchain_community.tools.tavily_search import TavilySearchResults\n",
        "import yfinance as yf\n",
        "\n",
        "tavily_search = TavilySearchResults(max_results=3)\n",
        "\n",
        "def get_stock_price(ticker: str) -> float:\n",
        "    \"\"\"Gets the previous closing price of a stock from Yahoo Finance.\n",
        "\n",
        "    Args:\n",
        "        ticker: The ticker symbol of the stock.\n",
        "\n",
        "    Returns:\n",
        "        The previous closing price as a float.\n",
        "    \"\"\"\n",
        "    stock = yf.Ticker(ticker)\n",
        "    previous_close = stock.info.get('previousClose', 0.0)\n",
        "    return previous_close\n",
        "\n",
        "def add(a: int, b: int) -> int:\n",
        "    \"\"\"Adds two integers.\"\"\"\n",
        "    return a + b\n",
        "\n",
        "def subtract(a: int, b: int) -> int:\n",
        "    \"\"\"Subtracts two integers.\"\"\"\n",
        "    return a - b\n",
        "\n",
        "def multiply(a: int, b: int) -> int:\n",
        "    \"\"\"Multiplies two integers.\"\"\"\n",
        "    return a * b\n",
        "\n",
        "def divide(a: int, b: int) -> int:\n",
        "    \"\"\"Divides two integers. Raises ZeroDivisionError if the second number is zero.\"\"\"\n",
        "    if b == 0:\n",
        "        raise ZeroDivisionError(\"Cannot divide by zero\")\n",
        "    return a // b\n",
        "\n",
        "tools = [add, subtract, multiply, divide, tavily_search, get_stock_price]"
      ],
      "metadata": {
        "id": "OGEM0ZKUQmE9"
      },
      "execution_count": 6,
      "outputs": []
    },
    {
      "cell_type": "code",
      "source": [
        "llm: ChatGoogleGenerativeAI = ChatGoogleGenerativeAI(api_key=GEMINI_API_KEY, model=\"gemini-2.0-flash-exp\")\n",
        "\n",
        "llm_with_tools = llm.bind_tools(tools)"
      ],
      "metadata": {
        "id": "hVan2bZGtFb9"
      },
      "execution_count": 7,
      "outputs": []
    },
    {
      "cell_type": "code",
      "source": [
        "class State(TypedDict):\n",
        "  messages: Annotated[List[AnyMessage], operator.add]\n",
        "\n",
        "memory: MemorySaver = MemorySaver()\n",
        "\n",
        "def reasoner(state: State):\n",
        "  response = llm_with_tools.invoke(state[\"messages\"])\n",
        "  return {\"messages\": [response]}\n",
        "\n",
        "builder = StateGraph(State)\n",
        "builder.add_node(\"reasoner\", reasoner)\n",
        "builder.add_node(\"tools\", ToolNode(tools))\n",
        "builder.add_edge(START, \"reasoner\")\n",
        "builder.add_conditional_edges(\"reasoner\", tools_condition)\n",
        "builder.add_edge(\"tools\", \"reasoner\")\n",
        "\n",
        "graph = builder.compile(checkpointer=memory)\n",
        "\n",
        "display(Image(graph.get_graph().draw_mermaid_png()))"
      ],
      "metadata": {
        "id": "AD5bDbCwqH_6",
        "outputId": "bfba425d-4eb7-4b19-9231-68454f491130",
        "colab": {
          "base_uri": "https://localhost:8080/",
          "height": 266
        }
      },
      "execution_count": 13,
      "outputs": [
        {
          "output_type": "display_data",
          "data": {
            "image/png": "[encoded data removed]",
            "text/plain": [
              "<IPython.core.display.Image object>"
            ]
          },
          "metadata": {}
        }
      ]
    },
    {
      "cell_type": "code",
      "source": [
        "config = {\"configurable\": {\"thread_id\": 1}}\n",
        "\n",
        "output = graph.invoke({\"messages\": [HumanMessage(content=\"WHat is the stock price of the car company of the worlds richest man?\")]}, config)\n",
        "for m in output['messages']:\n",
        "    m.pretty_print()"
      ],
      "metadata": {
        "id": "b_aigYP9A_pK",
        "outputId": "90f3db9a-8578-4845-a69d-a28a514fb464",
        "colab": {
          "base_uri": "https://localhost:8080/"
        }
      },
      "execution_count": 15,
      "outputs": [
        {
          "output_type": "stream",
          "name": "stdout",
          "text": [
            "================================\u001b[1m Human Message \u001b[0m=================================\n",
            "\n",
            "WHat is the stock price of the car company of the worlds richest man?\n",
            "==================================\u001b[1m Ai Message \u001b[0m==================================\n",
            "Tool Calls:\n",
            "  tavily_search_results_json (430fb025-d769-48ae-ad7b-a1a0cb1877ea)\n",
            " Call ID: 430fb025-d769-48ae-ad7b-a1a0cb1877ea\n",
            "  Args:\n",
            "    query: who is the richest man in the world\n",
            "=================================\u001b[1m Tool Message \u001b[0m=================================\n",
            "Name: tavily_search_results_json\n",
            "\n",
            "[{\"url\": \"https://www.moneycontrol.com/news/business/markets/elon-musk-still-the-richest-person-in-history-first-in-world-with-net-worth-over-400-billion-powered-by-tesla-spacex-12888104.html\", \"content\": \"Elon Musk still the richest person in history; first in world with net worth over $400 billion, powered by Tesla, SpaceX Elon Musk's fortune, estimated at over $400 billion by both Bloomberg and Forbes, gained remarkable momentum overnight.\"}, {\"url\": \"https://www.forbes.com/sites/forbeswealthteam/article/the-top-ten-richest-people-in-the-world/\", \"content\": \"These days he has investments in dozens of companies, including waste removal firm Republic Services and agricultural equipment maker Deere & Co., and is one of the largest owners of farmland in the U.S.\\nForbes first listed Gates as a billionaire in 1987; he was the richest person in the world from 1995 through 2017 (except in 2008 and from 2010 through 2013). As of November 1, 2023, Musk is still the world’s richest person—a position he also held for much of 2022—but his fortune has shrunk by 14% in the past month, the result of a 20% decline in the share price of electric vehicle maker Tesla.\\n The Top 10 Richest People In The World (November 2023)\\nBillionaires are some of the most powerful people on Earth, wielding significant influence over huge parts of the global economy and playing key roles in realms from international politics and media to philanthropy and scientific innovation.\\n All of the top ten richest are worth $100 billion or more as of November 1, a change from March, when only six of the top ten had fortunes that exceeded $100 billion and the top ten were worth a combined $1.17 trillion.\\n For most of the first half of 2023, French luxury goods magnate Bernard Arnault was the world’s richest person, per Forbes—but that changed on June 8, 2023, when Tesla CEO Elon Musk overtook Arnault to become No. 1 in the world again.\"}, {\"url\": \"https://www.investopedia.com/articles/investing/012715/5-richest-people-world.asp\", \"content\": \"Saul Martinez / Getty Images\\nIn Dec. 2020, Tesla joined the S&P 500, becoming the largest company added, and in Jan. 2021, Musk became the richest person in the world—a title that has fluctuated alongside the value of Tesla. He was invited to invest in LVMH in 1987 and became the majority shareholder, chair of the board, and CEO of the company two years later.\\n The top 10 richest people in the world as of Nov. 18, 2023, are:\\nWho Is the World's Richest Man in 2023?\\n The brotherly relationship between the two became strained when Ballmer started pushing the tech company into hardware, such as the Surface tablet and the Windows mobile phone, during his tenure as CEO.\\n Their charity seeks to leverage technology to fix societal ills, such as improving the access and quality of education, reforming both the criminal justice system and the U.S. immigration system, improving housing affordability, and eventually eradicating all diseases.\\n\"}]\n",
            "==================================\u001b[1m Ai Message \u001b[0m==================================\n",
            "Tool Calls:\n",
            "  get_stock_price (abfb3ae4-30e0-4fcc-9362-3725aa5c6f89)\n",
            " Call ID: abfb3ae4-30e0-4fcc-9362-3725aa5c6f89\n",
            "  Args:\n",
            "    ticker: TSLA\n",
            "=================================\u001b[1m Tool Message \u001b[0m=================================\n",
            "Name: get_stock_price\n",
            "\n",
            "400.99\n",
            "==================================\u001b[1m Ai Message \u001b[0m==================================\n",
            "\n",
            "The world's richest man is Elon Musk, and his car company is Tesla. The stock price of Tesla is $400.99.\n",
            "================================\u001b[1m Human Message \u001b[0m=================================\n",
            "\n",
            "WHat is the stock price of the car company of the worlds richest man?\n",
            "==================================\u001b[1m Ai Message \u001b[0m==================================\n",
            "Tool Calls:\n",
            "  tavily_search_results_json (a13d28cb-1c54-40bc-bae5-beaea471d5b6)\n",
            " Call ID: a13d28cb-1c54-40bc-bae5-beaea471d5b6\n",
            "  Args:\n",
            "    query: who is the richest man in the world\n",
            "=================================\u001b[1m Tool Message \u001b[0m=================================\n",
            "Name: tavily_search_results_json\n",
            "\n",
            "[{\"url\": \"https://www.forbes.com/sites/forbeswealthteam/article/the-top-ten-richest-people-in-the-world/\", \"content\": \"These days he has investments in dozens of companies, including waste removal firm Republic Services and agricultural equipment maker Deere & Co., and is one of the largest owners of farmland in the U.S.\\nForbes first listed Gates as a billionaire in 1987; he was the richest person in the world from 1995 through 2017 (except in 2008 and from 2010 through 2013). As of November 1, 2023, Musk is still the world’s richest person—a position he also held for much of 2022—but his fortune has shrunk by 14% in the past month, the result of a 20% decline in the share price of electric vehicle maker Tesla.\\n The Top 10 Richest People In The World (November 2023)\\nBillionaires are some of the most powerful people on Earth, wielding significant influence over huge parts of the global economy and playing key roles in realms from international politics and media to philanthropy and scientific innovation.\\n All of the top ten richest are worth $100 billion or more as of November 1, a change from March, when only six of the top ten had fortunes that exceeded $100 billion and the top ten were worth a combined $1.17 trillion.\\n For most of the first half of 2023, French luxury goods magnate Bernard Arnault was the world’s richest person, per Forbes—but that changed on June 8, 2023, when Tesla CEO Elon Musk overtook Arnault to become No. 1 in the world again.\"}, {\"url\": \"https://www.investopedia.com/articles/investing/012715/5-richest-people-world.asp\", \"content\": \"Saul Martinez / Getty Images\\nIn Dec. 2020, Tesla joined the S&P 500, becoming the largest company added, and in Jan. 2021, Musk became the richest person in the world—a title that has fluctuated alongside the value of Tesla. He was invited to invest in LVMH in 1987 and became the majority shareholder, chair of the board, and CEO of the company two years later.\\n The top 10 richest people in the world as of Nov. 18, 2023, are:\\nWho Is the World's Richest Man in 2023?\\n The brotherly relationship between the two became strained when Ballmer started pushing the tech company into hardware, such as the Surface tablet and the Windows mobile phone, during his tenure as CEO.\\n Their charity seeks to leverage technology to fix societal ills, such as improving the access and quality of education, reforming both the criminal justice system and the U.S. immigration system, improving housing affordability, and eventually eradicating all diseases.\\n\"}, {\"url\": \"https://www.forbes.com.au/news/billionaires/top-10-richest-people-in-the-world-december-2024/\", \"content\": \"Fuelled by a hefty in rise in Tesla shares and a higher value for his AI startup, Elon Musk’s fortune grew by a whopping 25% during November, with his fortune surpassing $300 billion for the first time in two years. Altogether, the world’s top 10 richest are worth an estimated $1.81 trillion as of December 1, up by $106 billion from a month ago. Musk was also the world’s richest person for most of 2022—until December 2022, when a drop in Tesla’s share price pushed down the value of his fortune. Ortega ranked No. 6 richest in the world in 2020, with a $55 billion fortune. As of December 1, 2024, she is worth an estimated $101.9 billion and is the world’s 17th richest person.\"}]\n",
            "==================================\u001b[1m Ai Message \u001b[0m==================================\n",
            "Tool Calls:\n",
            "  get_stock_price (bfa4c2fc-74bf-4e65-babd-fafd80231cd7)\n",
            " Call ID: bfa4c2fc-74bf-4e65-babd-fafd80231cd7\n",
            "  Args:\n",
            "    ticker: TSLA\n",
            "=================================\u001b[1m Tool Message \u001b[0m=================================\n",
            "Name: get_stock_price\n",
            "\n",
            "400.99\n",
            "==================================\u001b[1m Ai Message \u001b[0m==================================\n",
            "\n",
            "The richest man in the world is Elon Musk, and his car company is Tesla. The stock price of Tesla is $400.99.\n"
          ]
        }
      ]
    }
  ],
  "metadata": {
    "language_info": {
      "name": "python"
    },
    "colab": {
      "provenance": []
    },
    "kernelspec": {
      "name": "python3",
      "display_name": "Python 3"
    }
  },
  "nbformat": 4,
  "nbformat_minor": 0
}